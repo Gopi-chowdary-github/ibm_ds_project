{
 "cells": [
  {
   "cell_type": "code",
   "execution_count": 13,
   "id": "12a54998",
   "metadata": {},
   "outputs": [
    {
     "name": "stdout",
     "output_type": "stream",
     "text": [
      "C:\\Users\\gopij\n"
     ]
    }
   ],
   "source": [
    "import os\n",
    "\n",
    "print(os.getcwd())"
   ]
  },
  {
   "cell_type": "code",
   "execution_count": 24,
   "id": "484b7620",
   "metadata": {},
   "outputs": [
    {
     "name": "stdout",
     "output_type": "stream",
     "text": [
      "['.android', '.bash_history', '.cache', '.config', '.eclipse', '.git', '.gitconfig', '.gradle', '.ipynb_checkpoints', '.ipython', '.jupyter', '.lemminx', '.lesshst', '.m2', '.rediscli_history', '.ssh', '.sts4', '.viminfo', '.vscode', 'AppData', 'Application Data', 'Contacts', 'Cookies', 'demo', 'Documents', 'Downloads', 'Favorites', 'git', 'IBMDS.ipynb', 'Links', 'Local Settings', 'Music', 'My Documents', 'NetHood', 'netstat', 'NTUSER.DAT', 'ntuser.dat.LOG1', 'ntuser.dat.LOG2', 'NTUSER.DAT{2ad838bc-efea-11ee-a54d-000d3a94eaa1}.TM.blf', 'NTUSER.DAT{2ad838bc-efea-11ee-a54d-000d3a94eaa1}.TMContainer00000000000000000001.regtrans-ms', 'NTUSER.DAT{2ad838bc-efea-11ee-a54d-000d3a94eaa1}.TMContainer00000000000000000002.regtrans-ms', 'ntuser.ini', 'OneDrive', 'Postman', 'PrintHood', 'PycharmProjects', 'Recent', 'Saved Games', 'Searches', 'SendTo', 'Start Menu', 'Templates', 'Videos']\n"
     ]
    },
    {
     "data": {
      "text/plain": [
       "True"
      ]
     },
     "execution_count": 24,
     "metadata": {},
     "output_type": "execute_result"
    }
   ],
   "source": [
    "print(os.listdir('.'))\n",
    "#help(os.listdir)\n",
    "'My Documents' in os.listdir('.')"
   ]
  },
  {
   "cell_type": "code",
   "execution_count": 25,
   "id": "2915d5a1",
   "metadata": {},
   "outputs": [
    {
     "data": {
      "text/plain": [
       "True"
      ]
     },
     "execution_count": 25,
     "metadata": {},
     "output_type": "execute_result"
    }
   ],
   "source": [
    "os.makedirs('./data')\n",
    "'data' in os.listdir('.')"
   ]
  },
  {
   "cell_type": "code",
   "execution_count": 27,
   "id": "d59af5fa",
   "metadata": {},
   "outputs": [],
   "source": [
    "url1 = 'https://gist.githubusercontent.com/aakashns/257f6e6c8719c17d0e498ea287d1a386/raw/7def9ef4234ddf0bc82f855ad67dac8b971852ef/loans1.txt'\n",
    "url2 = 'https://gist.githubusercontent.com/aakashns/257f6e6c8719c17d0e498ea287d1a386/raw/7def9ef4234ddf0bc82f855ad67dac8b971852ef/loans2.txt'\n",
    "url3 = 'https://gist.githubusercontent.com/aakashns/257f6e6c8719c17d0e498ea287d1a386/raw/7def9ef4234ddf0bc82f855ad67dac8b971852ef/loans3.txt'"
   ]
  },
  {
   "cell_type": "code",
   "execution_count": 31,
   "id": "277416e3",
   "metadata": {},
   "outputs": [
    {
     "data": {
      "text/plain": [
       "['loans1.txt', 'loans2.txt', 'loans3.txt']"
      ]
     },
     "execution_count": 31,
     "metadata": {},
     "output_type": "execute_result"
    }
   ],
   "source": [
    "from urllib.request import urlretrieve\n",
    "import pandas as pd\n",
    "\n",
    "urlretrieve(url1,'./data/loans1.txt')\n",
    "urlretrieve(url2,'./data/loans2.txt')\n",
    "urlretrieve(url3,'./data/loans3.txt')\n",
    "os.listdir('./data')"
   ]
  },
  {
   "cell_type": "code",
   "execution_count": 32,
   "id": "bfb2b97e",
   "metadata": {},
   "outputs": [
    {
     "name": "stdout",
     "output_type": "stream",
     "text": [
      "amount,duration,rate,down_payment\n",
      "100000,36,0.08,20000\n",
      "200000,12,0.1,\n",
      "628400,120,0.12,100000\n",
      "4637400,240,0.06,\n",
      "42900,90,0.07,8900\n",
      "916000,16,0.13,\n",
      "45230,48,0.08,4300\n",
      "991360,99,0.08,\n",
      "423000,27,0.09,47200\n"
     ]
    }
   ],
   "source": [
    "with open('./data/loans1.txt') as file1:\n",
    "    file1_content=file1.read()\n",
    "    print(file1_content)"
   ]
  },
  {
   "cell_type": "code",
   "execution_count": 53,
   "id": "ac689bd9",
   "metadata": {},
   "outputs": [
    {
     "name": "stdout",
     "output_type": "stream",
     "text": [
      "['amount,duration,rate,down_payment\\n', '45230,48,0.07,4300\\n', '883000,16,0.14,\\n', '100000,12,0.1,\\n', '728400,120,0.12,100000\\n', '3637400,240,0.06,\\n', '82900,90,0.07,8900\\n', '316000,16,0.13,\\n', '15230,48,0.08,4300\\n', '991360,99,0.08,\\n', '323000,27,0.09,4720010000,36,0.08,20000\\n', '528400,120,0.11,100000\\n', '8633400,240,0.06,\\n', '12900,90,0.08,8900']\n"
     ]
    }
   ],
   "source": [
    "with open('./data/loans3.txt','r') as file3:\n",
    "    file3_content = file3.readlines()\n",
    "\n",
    "print(file3_content)\n",
    "\n",
    "def readHeader(header_lines):\n",
    "    return header_lines.strip().split(',')\n",
    "\n",
    "def parse_values(data_lines):\n",
    "    values=[]\n",
    "    for item in data_lines.strip().split(','):\n",
    "        if item == '':\n",
    "            values.append(0.0)\n",
    "        else:\n",
    "            try:\n",
    "                values.append(float(item))\n",
    "            except ValueError:\n",
    "                values.append(item)\n",
    "    return values"
   ]
  },
  {
   "cell_type": "code",
   "execution_count": 56,
   "id": "b4f979e1",
   "metadata": {},
   "outputs": [
    {
     "name": "stdout",
     "output_type": "stream",
     "text": [
      "['amount', 'duration', 'rate', 'down_payment']\n"
     ]
    }
   ],
   "source": [
    "\n",
    "header=readHeader(file3_content[0])\n",
    "print(header)"
   ]
  },
  {
   "cell_type": "code",
   "execution_count": 58,
   "id": "5e5e712b",
   "metadata": {},
   "outputs": [
    {
     "name": "stdout",
     "output_type": "stream",
     "text": [
      "[45230.0, 48.0, 0.07, 4300.0]\n",
      "[883000.0, 16.0, 0.14, 0.0]\n"
     ]
    }
   ],
   "source": [
    "file3_line2=parse_values(file3_content[1])\n",
    "print(file3_line2)\n",
    "\n",
    "file3_line3=parse_values(file3_content[2])\n",
    "print(file3_line3)"
   ]
  },
  {
   "cell_type": "code",
   "execution_count": 68,
   "id": "8aec0ae8",
   "metadata": {},
   "outputs": [],
   "source": [
    "def create_item_dict(values,header):\n",
    "    result={}\n",
    "    for val,head in zip(values,header):\n",
    "        result[head]=val\n",
    "    return result"
   ]
  },
  {
   "cell_type": "code",
   "execution_count": 64,
   "id": "48e0e5fc",
   "metadata": {},
   "outputs": [],
   "source": [
    "def read_csv(path):\n",
    "    result=[]\n",
    "    with open(path,'r') as f:\n",
    "       lines= f.readlines()\n",
    "\n",
    "       headers = readHeader(lines[0])\n",
    "\n",
    "       for data_line in lines[1:]:\n",
    "           values = parse_values(data_line)\n",
    "           item_dict=create_item_dict(values,headers)\n",
    "\n",
    "           result.append(item_dict)\n",
    "    return result"
   ]
  },
  {
   "cell_type": "code",
   "execution_count": 71,
   "id": "666eef73",
   "metadata": {},
   "outputs": [],
   "source": [
    "loans2=read_csv('./data/loans3.txt')\n"
   ]
  },
  {
   "cell_type": "code",
   "execution_count": 70,
   "id": "e6e2aa42",
   "metadata": {},
   "outputs": [],
   "source": [
    "import math\n",
    "\n",
    "def loan_emi(amount,duration,rate,down_pay=0):\n",
    "    \"\"\"Calculates the EMI for a loan\"\"\"\n",
    "    loan_amount = amount - down_pay\n",
    "    try:\n",
    "        emi = loan_amount * rate * ((1+rate)**duration) / (((1+rate)**duration)-1)\n",
    "    except ZeroDivisionError:\n",
    "        emi = loan_amount / duration\n",
    "    emi = math.ceil(emi)\n",
    "    return emi\n"
   ]
  },
  {
   "cell_type": "code",
   "execution_count": 73,
   "id": "9ee416fb",
   "metadata": {},
   "outputs": [
    {
     "name": "stdout",
     "output_type": "stream",
     "text": [
      "981\n"
     ]
    }
   ],
   "source": [
    "for loan in loans2:\n",
    "    loan['emi']=loan_emi(loan[\"amount\"],loan[\"duration\"],loan['rate']/12,loan['down_payment'])\n",
    "\n",
    "print(loans2[0]['emi'])"
   ]
  },
  {
   "cell_type": "code",
   "execution_count": 75,
   "id": "09e7254f",
   "metadata": {},
   "outputs": [],
   "source": [
    "def compute_emi(loans):\n",
    "    for loan in loans:\n",
    "         loan['emi']=loan_emi(loan[\"amount\"],loan[\"duration\"],loan['rate']/12,loan['down_payment'])"
   ]
  },
  {
   "cell_type": "code",
   "execution_count": 77,
   "id": "0ab81591",
   "metadata": {},
   "outputs": [],
   "source": [
    "with open('./data/emis2.txt','w') as f:\n",
    "    for loan in loans2:\n",
    "        f.write('{},{},{},{},{}\\n'.format(loan['amount'], \n",
    "            loan['duration'], \n",
    "            loan['rate'], \n",
    "            loan['down_payment'], \n",
    "            loan['emi']))"
   ]
  },
  {
   "cell_type": "code",
   "execution_count": 78,
   "id": "47a3b564",
   "metadata": {},
   "outputs": [
    {
     "data": {
      "text/plain": [
       "['emis2.txt', 'loans1.txt', 'loans2.txt', 'loans3.txt']"
      ]
     },
     "execution_count": 78,
     "metadata": {},
     "output_type": "execute_result"
    }
   ],
   "source": [
    "os.listdir('data')"
   ]
  },
  {
   "cell_type": "code",
   "execution_count": 82,
   "id": "6de7954f",
   "metadata": {},
   "outputs": [],
   "source": [
    "def write_csv(items,path):\n",
    "    with open(path,'w') as f:\n",
    "        if len(items)==0:\n",
    "            return\n",
    "        \n",
    "        headers = list(items[0].keys())\n",
    "        f.write(','.join(headers)+'\\n')\n",
    "\n",
    "        for item in items:\n",
    "            values=[]\n",
    "            for head in headers:\n",
    "                values.append(str(item.get(head,\"\")))\n",
    "            f.write(','.join(values)+'\\n')"
   ]
  },
  {
   "cell_type": "code",
   "execution_count": 86,
   "id": "41e3e1d3",
   "metadata": {},
   "outputs": [],
   "source": [
    "for i in range(1,4):\n",
    "    loans = read_csv('./data/loans{}.txt'.format(i))\n",
    "    compute_emi(loans)\n",
    "    write_csv(loans,'./data/emis{}.csv'.format(i))"
   ]
  },
  {
   "cell_type": "code",
   "execution_count": 85,
   "id": "ecf1b68a",
   "metadata": {},
   "outputs": [
    {
     "data": {
      "text/plain": [
       "'C:\\\\Users\\\\gopij'"
      ]
     },
     "execution_count": 85,
     "metadata": {},
     "output_type": "execute_result"
    }
   ],
   "source": [
    "os.listdir('data')\n",
    "os.getcwd()"
   ]
  }
 ],
 "metadata": {
  "kernelspec": {
   "display_name": "Python 3 (ipykernel)",
   "language": "python",
   "name": "python3"
  },
  "language_info": {
   "codemirror_mode": {
    "name": "ipython",
    "version": 3
   },
   "file_extension": ".py",
   "mimetype": "text/x-python",
   "name": "python",
   "nbconvert_exporter": "python",
   "pygments_lexer": "ipython3",
   "version": "3.13.6"
  }
 },
 "nbformat": 4,
 "nbformat_minor": 5
}
